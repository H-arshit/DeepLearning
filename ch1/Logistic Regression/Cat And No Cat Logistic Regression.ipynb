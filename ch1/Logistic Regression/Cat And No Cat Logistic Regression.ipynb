{
 "cells": [
  {
   "cell_type": "code",
   "execution_count": 1,
   "metadata": {},
   "outputs": [],
   "source": [
    "import numpy as np\n",
    "import matplotlib.pyplot as plt\n",
    "import h5py\n",
    "import scipy\n",
    "from PIL import Image\n",
    "from scipy import ndimage\n",
    "\n",
    "%matplotlib inline"
   ]
  },
  {
   "cell_type": "code",
   "execution_count": 2,
   "metadata": {},
   "outputs": [],
   "source": [
    "#Loading Dataset"
   ]
  },
  {
   "cell_type": "code",
   "execution_count": 3,
   "metadata": {},
   "outputs": [],
   "source": [
    "def load_dataset():\n",
    "    train_data = h5py.File(\"./train_catvnoncat.h5\" , \"r\")\n",
    "    train_set_x_orig = np.array(train_data[\"train_set_x\"][:])\n",
    "    train_set_y_orig = np.array(train_data[\"train_set_y\"][:])\n",
    "    \n",
    "    test_data = h5py.File(\"./test_catvnoncat.h5\" , \"r\")\n",
    "    test_set_x_orig = np.array(test_data[\"test_set_x\"][:])\n",
    "    test_set_y_orig = np.array(test_data[\"test_set_y\"][:])\n",
    "    \n",
    "    classes = np.array(test_data[\"list_classes\"][:])\n",
    "    \n",
    "    train_set_y = train_set_y_orig.reshape((1,train_set_y_orig.shape[0]))\n",
    "    test_set_y = test_set_y_orig.reshape((1,test_set_y_orig.shape[0]))\n",
    "    \n",
    "    m_train = train_set_x_orig.shape[0]\n",
    "    m_test = test_set_x_orig.shape[0]\n",
    "    num_px = train_set_x_orig.shape[1]\n",
    "    \n",
    "    train_x_flattened = train_set_x_orig.reshape(m_train , -1).T \n",
    "    test_x_flattened = test_set_x_orig.reshape(m_test , -1).T\n",
    "    \n",
    "    return train_x_flattened , train_set_y , test_x_flattened , test_set_y , classes , m_train , m_test, num_px"
   ]
  },
  {
   "cell_type": "code",
   "execution_count": 4,
   "metadata": {},
   "outputs": [],
   "source": [
    "train_x_flattened , train_set_y , test_x_flattened , test_set_y , classes , m_train , m_test , num_px = load_dataset()"
   ]
  },
  {
   "cell_type": "code",
   "execution_count": 5,
   "metadata": {},
   "outputs": [],
   "source": [
    "# Normalization"
   ]
  },
  {
   "cell_type": "code",
   "execution_count": 6,
   "metadata": {},
   "outputs": [],
   "source": [
    "def standardize(train_x_flattened , test_x_flattened):\n",
    "    train_x_flattened = train_x_flattened/255\n",
    "    test_x_flattened = test_x_flattened / 255\n",
    "    return train_x_flattened , test_x_flattened"
   ]
  },
  {
   "cell_type": "code",
   "execution_count": 7,
   "metadata": {},
   "outputs": [],
   "source": [
    "train_set_x , test_set_x = standardize(train_x_flattened , test_x_flattened)"
   ]
  },
  {
   "cell_type": "code",
   "execution_count": 8,
   "metadata": {},
   "outputs": [],
   "source": [
    "# Defining Model Functions"
   ]
  },
  {
   "cell_type": "code",
   "execution_count": 9,
   "metadata": {},
   "outputs": [],
   "source": [
    "def initialize_with_zero(dim):\n",
    "    w = np.zeros((dim , 1) , dtype = float)\n",
    "    b = 0.0\n",
    "    return w,b"
   ]
  },
  {
   "cell_type": "code",
   "execution_count": 10,
   "metadata": {},
   "outputs": [],
   "source": [
    "def sigmoid(z):\n",
    "    A = 1 / (1 + np.exp(-z))\n",
    "    return A\n",
    "    "
   ]
  },
  {
   "cell_type": "code",
   "execution_count": 11,
   "metadata": {},
   "outputs": [],
   "source": [
    "def propogate(X, Y, w, b):\n",
    "    \n",
    "    m = X.shape[1]\n",
    "    \n",
    "    # Forward Propogation\n",
    "    \n",
    "    z = np.dot(w.T , X) + b\n",
    "    A = sigmoid(z) \n",
    "    \n",
    "    cost = ( -1 / m ) * np.sum(( (Y * np.log(A)) + ((1-Y)*np.log(1-A))) , axis = 1 , keepdims = True)\n",
    "    \n",
    "    \n",
    "    # Back Propogation\n",
    "    \n",
    "    dz = A - Y\n",
    "    \n",
    "    dw = (1/m) * np.dot(X , dz.T)\n",
    "    \n",
    "    db = (1/m) * np.sum(dz , axis = 1 , keepdims = True)\n",
    "    \n",
    "    \n",
    "    cost = np.squeeze(cost)\n",
    "    \n",
    "    grad = {\"dw\" : dw,\n",
    "            \"db\" : db }\n",
    "    \n",
    "    return grad , cost\n",
    "    \n",
    "    \n",
    "    "
   ]
  },
  {
   "cell_type": "code",
   "execution_count": 12,
   "metadata": {},
   "outputs": [],
   "source": [
    "def optimize(X , Y , w , b , learning_rate , num_of_iterations , print_cost):\n",
    "    costs = []\n",
    "    for i in range(num_of_iterations):\n",
    "        \n",
    "        grads , cost = propogate(X,Y,w,b)\n",
    "        \n",
    "        dw = grads[\"dw\"]\n",
    "        db = grads[\"db\"]\n",
    "        \n",
    "        # gradient descent \n",
    "        \n",
    "        w = w - (learning_rate * dw)\n",
    "        b = b - (learning_rate * db)\n",
    "        \n",
    "        if i % 100 == 0:\n",
    "            costs.append(cost)\n",
    "            \n",
    "            if print_cost:\n",
    "                print(\"Iteration : %i => Cost : %f  \"%(i,cost))\n",
    "        \n",
    "    \n",
    "    parameters = {\"w\":w,\n",
    "                  \"b\":b}\n",
    "        \n",
    "    return parameters , grads , costs \n",
    "        "
   ]
  },
  {
   "cell_type": "code",
   "execution_count": 16,
   "metadata": {},
   "outputs": [],
   "source": [
    "def predict(X , w , b):\n",
    "    \n",
    "    \n",
    "    m = X.shape[1] \n",
    "    Y_prediction = np.zeros((1,m))\n",
    "    w = w.reshape(X.shape[0] , 1)\n",
    "    \n",
    "    A = sigmoid(np.dot(w.T , X) + b)\n",
    "    \n",
    "    for i in range(A.shape[1]):\n",
    "        if A[0][i] > 0.5:\n",
    "            Y_prediction[0][i] = 1\n",
    "        else:\n",
    "            Y_prediction[0][i] = 0\n",
    "        \n",
    "    \n",
    "    return Y_prediction"
   ]
  },
  {
   "cell_type": "code",
   "execution_count": 19,
   "metadata": {},
   "outputs": [],
   "source": [
    "def model(Train_X , Train_Y , Test_X , Test_Y , learning_rate = 0.5 , num_of_iterations = 2000, print_cost = False):\n",
    "    \n",
    "    # Initialization of Hyper Parameters\n",
    "    w,b = initialize_with_zero(Train_X.shape[0])\n",
    "    \n",
    "    # Training the model\n",
    "    parameters , grads , costs = optimize(Train_X , Train_Y , w , b , learning_rate , num_of_iterations , print_cost ) \n",
    "    \n",
    "    \n",
    "    # Optimized HyperParameters\n",
    "    \n",
    "    w = parameters[\"w\"]\n",
    "    b = parameters[\"b\"]\n",
    "    \n",
    "    \n",
    "    \n",
    "    y_prediction_test = predict(Test_X , w , b)\n",
    "    y_prediction_train = predict(Train_X ,w , b)\n",
    "    \n",
    "    \n",
    "    \n",
    "    \n",
    "    print(\"Training Accuracy: {} %\".format(100 - np.mean(np.abs(y_prediction_train - Train_Y)) * 100))\n",
    "    print(\"Tesing Accuracy: {} %\".format(100 - np.mean(np.abs(y_prediction_test - Test_Y)) * 100))\n",
    "    \n",
    "    \n",
    "    \n",
    "    d = {\n",
    "        \"costs\" : costs, \n",
    "        \"y_prediction_test\" : y_prediction_test,\n",
    "        \"y_prediction_train\" : y_prediction_train,\n",
    "        \"w\" : w,\n",
    "        \"b\" : b,\n",
    "        \"learning_rate\": learning_rate,\n",
    "        \"num_of_iterations\": num_of_iterations\n",
    "    }\n",
    "\n",
    "    \n",
    "    \n",
    "    return d\n",
    "    \n",
    "    \n",
    "    "
   ]
  },
  {
   "cell_type": "code",
   "execution_count": 20,
   "metadata": {},
   "outputs": [
    {
     "name": "stdout",
     "output_type": "stream",
     "text": [
      "Iteration : 0 => Cost : 0.693147  \n",
      "Iteration : 100 => Cost : 0.584508  \n",
      "Iteration : 200 => Cost : 0.466949  \n",
      "Iteration : 300 => Cost : 0.376007  \n",
      "Iteration : 400 => Cost : 0.331463  \n",
      "Iteration : 500 => Cost : 0.303273  \n",
      "Iteration : 600 => Cost : 0.279880  \n",
      "Iteration : 700 => Cost : 0.260042  \n",
      "Iteration : 800 => Cost : 0.242941  \n",
      "Iteration : 900 => Cost : 0.228004  \n",
      "Iteration : 1000 => Cost : 0.214820  \n",
      "Iteration : 1100 => Cost : 0.203078  \n",
      "Iteration : 1200 => Cost : 0.192544  \n",
      "Iteration : 1300 => Cost : 0.183033  \n",
      "Iteration : 1400 => Cost : 0.174399  \n",
      "Iteration : 1500 => Cost : 0.166521  \n",
      "Iteration : 1600 => Cost : 0.159305  \n",
      "Iteration : 1700 => Cost : 0.152667  \n",
      "Iteration : 1800 => Cost : 0.146542  \n",
      "Iteration : 1900 => Cost : 0.140872  \n",
      "Training Accuracy: 99.04306220095694 %\n",
      "Tesing Accuracy: 70.0 %\n"
     ]
    }
   ],
   "source": [
    "d = model(train_set_x , train_set_y , test_set_x , test_set_y , learning_rate = 0.005 , num_of_iterations = 2000 , print_cost = True )"
   ]
  },
  {
   "cell_type": "code",
   "execution_count": 24,
   "metadata": {},
   "outputs": [
    {
     "data": {
      "image/png": "[encoded data removed]",
      "text/plain": [
       "<Figure size 432x288 with 1 Axes>"
      ]
     },
     "metadata": {
      "needs_background": "light"
     },
     "output_type": "display_data"
    }
   ],
   "source": [
    "# Cost V/s No. Of Iteration\n",
    "\n",
    "costs = np.squeeze(d['costs'])\n",
    "plt.plot(costs)\n",
    "plt.xlabel('Cost')\n",
    "plt.ylabel('Iterations (per Hundreds)')\n",
    "plt.title(\"Learing Rate = \" + str(d[\"learning_rate\"]))\n",
    "plt.show()\n"
   ]
  },
  {
   "cell_type": "code",
   "execution_count": null,
   "metadata": {},
   "outputs": [],
   "source": []
  }
 ],
 "metadata": {
  "kernelspec": {
   "display_name": "Python 3",
   "language": "python",
   "name": "python3"
  },
  "language_info": {
   "codemirror_mode": {
    "name": "ipython",
    "version": 3
   },
   "file_extension": ".py",
   "mimetype": "text/x-python",
   "name": "python",
   "nbconvert_exporter": "python",
   "pygments_lexer": "ipython3",
   "version": "3.7.3"
  }
 },
 "nbformat": 4,
 "nbformat_minor": 2
}
