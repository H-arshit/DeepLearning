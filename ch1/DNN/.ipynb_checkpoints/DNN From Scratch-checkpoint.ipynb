{
 "cells": [
  {
   "cell_type": "code",
   "execution_count": 1,
   "metadata": {},
   "outputs": [],
   "source": [
    "import numpy as np\n",
    "import matplotlib.pyplot as plt\n",
    "import h5py\n",
    "\n",
    "%matplotlib inline\n",
    "plt.rcParams['figure.figsize'] = (5.0, 4.0) # set default size of plots\n",
    "plt.rcParams['image.interpolation'] = 'nearest'\n",
    "plt.rcParams['image.cmap'] = 'gray'\n",
    "\n",
    "\n",
    "np.random.seed(1)"
   ]
  },
  {
   "cell_type": "code",
   "execution_count": 2,
   "metadata": {},
   "outputs": [],
   "source": [
    "def load_dataset():\n",
    "    train_data = h5py.File(\"./train_catvnoncat.h5\" , \"r\")\n",
    "    train_set_x_orig = np.array(train_data[\"train_set_x\"][:])\n",
    "    train_set_y_orig = np.array(train_data[\"train_set_y\"][:])\n",
    "    \n",
    "    test_data = h5py.File(\"./test_catvnoncat.h5\" , \"r\")\n",
    "    test_set_x_orig = np.array(test_data[\"test_set_x\"][:])\n",
    "    test_set_y_orig = np.array(test_data[\"test_set_y\"][:])\n",
    "    \n",
    "    classes = np.array(test_data[\"list_classes\"][:])\n",
    "    \n",
    "    train_set_y = train_set_y_orig.reshape((1,train_set_y_orig.shape[0]))\n",
    "    test_set_y = test_set_y_orig.reshape((1,test_set_y_orig.shape[0]))\n",
    "    \n",
    "    m_train = train_set_x_orig.shape[0]\n",
    "    m_test = test_set_x_orig.shape[0]\n",
    "    num_px = train_set_x_orig.shape[1]\n",
    "    \n",
    "    train_x_flattened = train_set_x_orig.reshape(m_train , -1).T \n",
    "    test_x_flattened = test_set_x_orig.reshape(m_test , -1).T\n",
    "    \n",
    "    return train_x_flattened , train_set_y , test_x_flattened , test_set_y , classes , m_train , m_test, num_px"
   ]
  },
  {
   "cell_type": "code",
   "execution_count": 3,
   "metadata": {},
   "outputs": [],
   "source": [
    "train_x_flattened , train_set_y , test_x_flattened , test_set_y , classes , m_train , m_test , num_px = load_dataset()"
   ]
  },
  {
   "cell_type": "code",
   "execution_count": 4,
   "metadata": {},
   "outputs": [],
   "source": [
    "def standardize(train_x_flattened , test_x_flattened):\n",
    "    train_x_flattened = train_x_flattened/255.\n",
    "    test_x_flattened = test_x_flattened / 255.\n",
    "    return train_x_flattened , test_x_flattened"
   ]
  },
  {
   "cell_type": "code",
   "execution_count": 5,
   "metadata": {},
   "outputs": [],
   "source": [
    "train_set_x , test_set_x = standardize(train_x_flattened , test_x_flattened)"
   ]
  },
  {
   "cell_type": "code",
   "execution_count": 6,
   "metadata": {},
   "outputs": [],
   "source": [
    "# Initialize Model Parameters"
   ]
  },
  {
   "cell_type": "code",
   "execution_count": 7,
   "metadata": {},
   "outputs": [],
   "source": [
    "def initialize_parameters_deep(layer_dims):\n",
    "    \n",
    "    #np.random.seed(3)\n",
    "    np.random.seed(1)\n",
    "    parameters = {}\n",
    "    L = len(layer_dims)\n",
    "    \n",
    "    \n",
    "    for l in range(1 , L):\n",
    "        #parameters[\"W\" + str(l)] = np.random.randn(layer_dims[l] , layer_dims[l-1]) * 0.01\n",
    "        parameters[\"W\" + str(l)] = np.random.randn(layer_dims[l] , layer_dims[l-1]) / np.sqrt(layer_dims[l-1])\n",
    "        parameters[\"b\" + str(l)] = np.zeros((layer_dims[l] , 1) , dtype = float)\n",
    "    \n",
    "    return parameters"
   ]
  },
  {
   "cell_type": "code",
   "execution_count": 8,
   "metadata": {},
   "outputs": [],
   "source": [
    "# Forward Propogation"
   ]
  },
  {
   "cell_type": "code",
   "execution_count": 9,
   "metadata": {},
   "outputs": [],
   "source": [
    "def sigmoid(Z):\n",
    "    \n",
    "    A = 1 / (1 + np.exp(-Z))\n",
    "    \n",
    "    activation_cache = Z\n",
    "    return A , activation_cache"
   ]
  },
  {
   "cell_type": "code",
   "execution_count": 10,
   "metadata": {},
   "outputs": [],
   "source": [
    "def relu(Z):\n",
    "    A = np.maximum(0,Z)\n",
    "    activation_cache = Z\n",
    "    \n",
    "    return A , activation_cache\n",
    "    "
   ]
  },
  {
   "cell_type": "code",
   "execution_count": 11,
   "metadata": {},
   "outputs": [],
   "source": [
    "def linear_forward(A , W , b):\n",
    "    \n",
    "    Z = np.dot(W , A) + b \n",
    "    linear_cache = (A , W , b)\n",
    "    \n",
    "    return Z , linear_cache"
   ]
  },
  {
   "cell_type": "code",
   "execution_count": 12,
   "metadata": {},
   "outputs": [],
   "source": [
    "def linear_activation_forward(A_prev , W , b , activation):\n",
    "    \n",
    "    if activation == \"relu\" : \n",
    "        Z , linear_cache = linear_forward(A_prev , W , b) \n",
    "        A , activation_cache = relu(Z) \n",
    "    \n",
    "    elif activation == \"sigmoid\" :\n",
    "        Z , linear_cache = linear_forward(A_prev , W , b) \n",
    "        A , activation_cache = sigmoid(Z) \n",
    "        \n",
    "    \n",
    "    cache = (linear_cache , activation_cache)\n",
    "    \n",
    "    return A , cache"
   ]
  },
  {
   "cell_type": "code",
   "execution_count": 13,
   "metadata": {},
   "outputs": [],
   "source": [
    "def L_model_forward(X , parameters):\n",
    "    \n",
    "    L = len(parameters) // 2 \n",
    "    A = X \n",
    "    caches = []\n",
    "    \n",
    "    for l in range(1 , L):\n",
    "        \n",
    "        A_prev = A\n",
    "        \n",
    "        A , cache = linear_activation_forward(A_prev , parameters[\"W\" + str(l)] , parameters[\"b\" + str(l)] , \"relu\")\n",
    "        caches.append(cache)\n",
    "    \n",
    "    AL , cache = linear_activation_forward(A , parameters[\"W\" + str(L)] , parameters[\"b\" + str(L)] , \"sigmoid\")\n",
    "    caches.append(cache)\n",
    "    \n",
    "    return AL , caches\n",
    "        "
   ]
  },
  {
   "cell_type": "code",
   "execution_count": 14,
   "metadata": {},
   "outputs": [],
   "source": [
    "def compute_cost(AL , Y):\n",
    "    \n",
    "    m = Y.shape[1]\n",
    "    \n",
    "    cost = (-1/m) * np.sum( np.multiply(Y , np.log(AL)) + np.multiply(1-Y , np.log(1-AL)) , axis = 1 , keepdims = True )\n",
    "    \n",
    "    cost = np.squeeze(cost)\n",
    "    \n",
    "    return cost\n"
   ]
  },
  {
   "cell_type": "code",
   "execution_count": 15,
   "metadata": {},
   "outputs": [],
   "source": [
    "#Backward Propogation"
   ]
  },
  {
   "cell_type": "code",
   "execution_count": 16,
   "metadata": {},
   "outputs": [],
   "source": [
    "def sigmoid_backward(dA , activation_cache):\n",
    "    \n",
    "    Z = activation_cache\n",
    "    \n",
    "    s = 1 / (1 + np.exp(-Z))\n",
    "    \n",
    "    dZ = dA * s * (1-s)\n",
    "    \n",
    "    return dZ"
   ]
  },
  {
   "cell_type": "code",
   "execution_count": 17,
   "metadata": {},
   "outputs": [],
   "source": [
    "def relu_backward(dA , activation_cache):\n",
    "    \n",
    "    Z = activation_cache\n",
    "    \n",
    "    dZ = np.array(dA , copy = True)\n",
    "    dZ[Z <= 0] = 0\n",
    "#     dZ[Z < 0] = 0    \n",
    "    return dZ\n",
    "    "
   ]
  },
  {
   "cell_type": "code",
   "execution_count": 18,
   "metadata": {},
   "outputs": [],
   "source": [
    "def linear_backward(dZ , linear_cache):\n",
    "    \n",
    "    A_prev , W , b = linear_cache\n",
    "    m = A_prev.shape[1]\n",
    "    \n",
    "    dW = (1/m) * np.dot(dZ , A_prev.T)\n",
    "    db = (1/m) * np.sum(dZ , axis = 1 , keepdims = True)\n",
    "    dA_prev = np.dot(W.T , dZ)\n",
    "    \n",
    "    \n",
    "    return dA_prev, dW , db\n",
    "    "
   ]
  },
  {
   "cell_type": "code",
   "execution_count": 19,
   "metadata": {},
   "outputs": [],
   "source": [
    "def linear_activation_backward(dA , cache , activation):\n",
    "    \n",
    "    linear_cache , activation_cache = cache\n",
    "    \n",
    "    if activation == \"sigmoid\" :\n",
    "        dZ = sigmoid_backward(dA , activation_cache)\n",
    "        dA_prev , dW , db = linear_backward(dZ , linear_cache)\n",
    "        \n",
    "    elif activation == \"relu\" :\n",
    "        dZ = relu_backward(dA , activation_cache)\n",
    "        dA_prev , dW , db = linear_backward(dZ , linear_cache)\n",
    "        \n",
    "        \n",
    "    return dA_prev , dW , db\n",
    "        "
   ]
  },
  {
   "cell_type": "code",
   "execution_count": 20,
   "metadata": {},
   "outputs": [],
   "source": [
    "def L_model_backward(AL , Y , caches):\n",
    "    \n",
    "    grads = {}\n",
    "    L = len(caches)\n",
    "    m = AL.shape[1]\n",
    "    Y = Y.reshape(AL.shape)\n",
    "    \n",
    "    \n",
    "    dAL = -(np.divide(Y,AL) - np.divide(1-Y , 1-AL))\n",
    "    \n",
    "    \n",
    "    current_cache = caches[L-1]\n",
    "    grads[\"dA\" + str(L-1)] , grads[\"dW\" + str(L)] , grads[\"db\" + str(L)] = linear_activation_backward(dAL , current_cache ,\"sigmoid\")\n",
    "    \n",
    "    for l in reversed(range(L-1)):\n",
    "        current_cache = caches[l]\n",
    "        grads[\"dA\" + str(l)] , grads[\"dW\" + str(l+1)] , grads[\"db\" + str(l+1)] = linear_activation_backward(grads[\"dA\" + str(l+1)] , current_cache ,\"relu\")\n",
    "\n",
    "    return grads\n",
    "    "
   ]
  },
  {
   "cell_type": "code",
   "execution_count": 21,
   "metadata": {},
   "outputs": [],
   "source": [
    "def update_parameters(parameters , grads , learning_rate):\n",
    "    \n",
    "    L  = len(parameters) // 2 \n",
    "    \n",
    "    for l in range(L):\n",
    "        parameters[\"W\" + str(l+1)] -= (learning_rate * grads[\"dW\" + str(l+1)] )\n",
    "        parameters[\"b\" + str(l+1)] -= (learning_rate * grads[\"db\" + str(l+1)] )\n",
    "        \n",
    "    return parameters"
   ]
  },
  {
   "cell_type": "code",
   "execution_count": 22,
   "metadata": {},
   "outputs": [],
   "source": [
    "def L_layer_model(X , Y , layer_dims , learning_rate = 0.0075 , num_iterations = 3000 , print_cost = False ):\n",
    "    \n",
    "    np.random.seed(1)\n",
    "    costs = []\n",
    "    parameters = initialize_parameters_deep(layer_dims)\n",
    "    \n",
    "    \n",
    "    #print(parameters)\n",
    "    \n",
    "    for i in range(0,num_iterations):\n",
    "        \n",
    "        AL, caches = L_model_forward(X , parameters) \n",
    "        cost = compute_cost(AL , Y)\n",
    "        \n",
    "        grads = L_model_backward(AL , Y , caches)\n",
    "        \n",
    "        \n",
    "        parameters = update_parameters(parameters , grads , learning_rate)\n",
    "        \n",
    "        \n",
    "        if print_cost and i % 100 == 0:\n",
    "            print(\"Iteration %i => Cost %f\"%(i,cost))\n",
    "            \n",
    "        if print_cost and i % 100 == 0 :\n",
    "            costs.append(cost)\n",
    "        \n",
    "        \n",
    "    plt.plot(np.squeeze(costs))\n",
    "    plt.ylabel('cost')\n",
    "    plt.xlabel('Num. of Iteration (per hundred)')\n",
    "    plt.title(\"Learning Rate = \" + str(learning_rate))\n",
    "    plt.show()\n",
    "    \n",
    "    return parameters\n",
    "        "
   ]
  },
  {
   "cell_type": "code",
   "execution_count": 23,
   "metadata": {},
   "outputs": [
    {
     "name": "stdout",
     "output_type": "stream",
     "text": [
      "Iteration 0 => Cost 0.771749\n",
      "Iteration 100 => Cost 0.672053\n",
      "Iteration 200 => Cost 0.648263\n",
      "Iteration 300 => Cost 0.611507\n",
      "Iteration 400 => Cost 0.567047\n",
      "Iteration 500 => Cost 0.540138\n",
      "Iteration 600 => Cost 0.527930\n",
      "Iteration 700 => Cost 0.465477\n",
      "Iteration 800 => Cost 0.369126\n",
      "Iteration 900 => Cost 0.391747\n",
      "Iteration 1000 => Cost 0.315187\n",
      "Iteration 1100 => Cost 0.272700\n",
      "Iteration 1200 => Cost 0.237419\n",
      "Iteration 1300 => Cost 0.199601\n",
      "Iteration 1400 => Cost 0.189263\n",
      "Iteration 1500 => Cost 0.161189\n",
      "Iteration 1600 => Cost 0.148214\n",
      "Iteration 1700 => Cost 0.137775\n",
      "Iteration 1800 => Cost 0.129740\n",
      "Iteration 1900 => Cost 0.121225\n",
      "Iteration 2000 => Cost 0.113821\n",
      "Iteration 2100 => Cost 0.107839\n",
      "Iteration 2200 => Cost 0.102855\n",
      "Iteration 2300 => Cost 0.100897\n",
      "Iteration 2400 => Cost 0.092878\n"
     ]
    },
    {
     "data": {
      "image/png": "[encoded data removed]",
      "text/plain": [
       "<Figure size 432x288 with 1 Axes>"
      ]
     },
     "metadata": {
      "needs_background": "light"
     },
     "output_type": "display_data"
    }
   ],
   "source": [
    "layers_dims = [12288, 20, 7, 5, 1]\n",
    "parameters = L_layer_model(train_set_x, train_set_y, layers_dims, num_iterations = 2500 , print_cost = True)"
   ]
  },
  {
   "cell_type": "code",
   "execution_count": null,
   "metadata": {},
   "outputs": [],
   "source": [
    "def predict(X , Y , parameters):\n",
    "    \n",
    "    AL, caches = L_model_forward(X , parameters)"
   ]
  },
  {
   "cell_type": "code",
   "execution_count": null,
   "metadata": {},
   "outputs": [],
   "source": [
    "pred_train = predict(train_x, train_y, parameters)"
   ]
  }
 ],
 "metadata": {
  "kernelspec": {
   "display_name": "Python 3",
   "language": "python",
   "name": "python3"
  },
  "language_info": {
   "codemirror_mode": {
    "name": "ipython",
    "version": 3
   },
   "file_extension": ".py",
   "mimetype": "text/x-python",
   "name": "python",
   "nbconvert_exporter": "python",
   "pygments_lexer": "ipython3",
   "version": "3.7.3"
  }
 },
 "nbformat": 4,
 "nbformat_minor": 2
}
